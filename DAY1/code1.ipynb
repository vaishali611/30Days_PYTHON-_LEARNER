{
 "cells": [
  {
   "cell_type": "code",
   "execution_count": 1,
   "metadata": {},
   "outputs": [
    {
     "data": {
      "text/plain": [
       "5"
      ]
     },
     "execution_count": 1,
     "metadata": {},
     "output_type": "execute_result"
    }
   ],
   "source": [
    "2+3"
   ]
  },
  {
   "cell_type": "code",
   "execution_count": 2,
   "metadata": {},
   "outputs": [],
   "source": [
    "# 2 + 3 is 5\n",
    "# 3 - 2 is 1\n",
    "# 3 * 2 is 6\n",
    "# 3 / 2 is 1.5\n",
    "# 3 ** 2 is the same as 3 * 3\n",
    "# In python we have the following additional operations:\n",
    "\n",
    "# 3 % 2 = 1 => which means finding the remainder\n",
    "# 3 // 2 = 1 => which means removing the remainder"
   ]
  },
  {
   "cell_type": "code",
   "execution_count": 5,
   "metadata": {},
   "outputs": [
    {
     "data": {
      "text/plain": [
       "8"
      ]
     },
     "execution_count": 5,
     "metadata": {},
     "output_type": "execute_result"
    }
   ],
   "source": [
    "2**3  # resembles to 2*2*2"
   ]
  },
  {
   "cell_type": "code",
   "execution_count": 6,
   "metadata": {},
   "outputs": [
    {
     "data": {
      "text/plain": [
       "'hello this is vaishali  today! I started my python learning\\n journey its bit late but i assure you that i will be consistent and dedicated to acheive my goal in future . I will do practise daily and complete every day\\n as given here.\\n'"
      ]
     },
     "execution_count": 6,
     "metadata": {},
     "output_type": "execute_result"
    }
   ],
   "source": [
    "\"\"\"hello this is vaishali  today! I started my python learning\n",
    " journey its bit late but i assure you that i will be consistent and dedicated to acheive my goal in future . I will do practise daily and complete every day\n",
    " as given here.\n",
    "\"\"\""
   ]
  },
  {
   "cell_type": "markdown",
   "metadata": {},
   "source": [
    "Integer: Integer(negative, zero and positive) numbers Example: ... -3, -2, -1, 0, 1, 2, 3 ...\n",
    "Float: Decimal number Example ... -3.5, -2.25, -1.0, 0.0, 1.1, 2.2, 3.5 ...\n",
    "Complex Example 1 + j, 2 + 4j"
   ]
  },
  {
   "cell_type": "code",
   "execution_count": 15,
   "metadata": {},
   "outputs": [
    {
     "data": {
      "text/plain": [
       "['Banana', 10, False, 9.81]"
      ]
     },
     "execution_count": 15,
     "metadata": {},
     "output_type": "execute_result"
    }
   ],
   "source": [
    "[0, 1, 2, 3, 4, 5]  # all are the same data types - a list of numbers\n",
    "['Banana', 'Orange', 'Mango', 'Avocado'] # all the same data types - a list of strings (fruits)\n",
    "['Finland','Estonia', 'Sweden','Norway'] # all the same data types - a list of strings (countries)\n",
    "['Banana', 10, False, 9.81] # different data types in the list - string, integer, boolean and float\n",
    "#these are list"
   ]
  },
  {
   "cell_type": "markdown",
   "metadata": {},
   "source": [
    "String\n",
    "A collection of one or more characters under a single or double quote. If a string is more than one sentence then we use a triple quote.\n",
    "\n",
    "Example:\n",
    "\n",
    "'Asabeneh'\n",
    "'Finland'\n",
    "'Python'\n",
    "'I love teaching'\n",
    "'I hope you are enjoying the first day of 30DaysOfPython Challenge'"
   ]
  },
  {
   "cell_type": "code",
   "execution_count": 12,
   "metadata": {},
   "outputs": [
    {
     "data": {
      "text/plain": [
       "{'first_name': 'Asabeneh',\n",
       " 'last_name': 'Yetayeh',\n",
       " 'country': 'Finland',\n",
       " 'age': 250,\n",
       " 'is_married': True,\n",
       " 'skills': ['JS', 'React', 'Node', 'Python']}"
      ]
     },
     "execution_count": 12,
     "metadata": {},
     "output_type": "execute_result"
    }
   ],
   "source": [
    "{\n",
    "'first_name':'Asabeneh',\n",
    "'last_name':'Yetayeh',\n",
    "'country':'Finland', \n",
    "'age':250, \n",
    "'is_married':True,\n",
    "'skills':['JS', 'React', 'Node', 'Python']\n",
    "} #Dictionary"
   ]
  },
  {
   "cell_type": "code",
   "execution_count": 17,
   "metadata": {},
   "outputs": [
    {
     "data": {
      "text/plain": [
       "('Earth', 'Jupiter', 'Neptune', 'Mars', 'Venus', 'Saturn', 'Uranus', 'Mercury')"
      ]
     },
     "execution_count": 17,
     "metadata": {},
     "output_type": "execute_result"
    }
   ],
   "source": [
    "('Asabeneh', 'Pawel', 'Brook', 'Abraham', 'Lidiya') # Names they are tuples tuples cannot be changed after decalration\n",
    "('Earth', 'Jupiter', 'Neptune', 'Mars', 'Venus', 'Saturn', 'Uranus', 'Mercury') # planets"
   ]
  },
  {
   "cell_type": "code",
   "execution_count": 19,
   "metadata": {},
   "outputs": [],
   "source": [
    "names = ('Asabeneh', 'Pawel', 'Brook', 'Abraham', 'Lidiya')\n"
   ]
  },
  {
   "cell_type": "code",
   "execution_count": 20,
   "metadata": {},
   "outputs": [
    {
     "ename": "TypeError",
     "evalue": "'tuple' object does not support item assignment",
     "output_type": "error",
     "traceback": [
      "\u001b[1;31m---------------------------------------------------------------------------\u001b[0m",
      "\u001b[1;31mTypeError\u001b[0m                                 Traceback (most recent call last)",
      "Cell \u001b[1;32mIn[20], line 2\u001b[0m\n\u001b[0;32m      1\u001b[0m \u001b[38;5;66;03m# This will raise a TypeError\u001b[39;00m\n\u001b[1;32m----> 2\u001b[0m \u001b[43mnames\u001b[49m\u001b[43m[\u001b[49m\u001b[38;5;241;43m0\u001b[39;49m\u001b[43m]\u001b[49m \u001b[38;5;241m=\u001b[39m \u001b[38;5;124m'\u001b[39m\u001b[38;5;124mJohn\u001b[39m\u001b[38;5;124m'\u001b[39m\n",
      "\u001b[1;31mTypeError\u001b[0m: 'tuple' object does not support item assignment"
     ]
    }
   ],
   "source": [
    "# This will raise a TypeError\n",
    "names[0] = 'John'\n"
   ]
  },
  {
   "cell_type": "code",
   "execution_count": 30,
   "metadata": {},
   "outputs": [
    {
     "data": {
      "text/plain": [
       "{2.7, 3.14, 'hi'}"
      ]
     },
     "execution_count": 30,
     "metadata": {},
     "output_type": "execute_result"
    }
   ],
   "source": [
    "{2, 4, 3, 5}\n",
    "{3.14, 'hi', 2.7} # order is not important in set { } in this format they deaclered"
   ]
  },
  {
   "cell_type": "code",
   "execution_count": 31,
   "metadata": {},
   "outputs": [
    {
     "name": "stdout",
     "output_type": "stream",
     "text": [
      "5\n",
      "2\n",
      "6\n",
      "1.5\n",
      "9\n",
      "1\n",
      "1\n",
      "<class 'int'>\n",
      "<class 'float'>\n",
      "<class 'complex'>\n",
      "<class 'str'>\n",
      "<class 'list'>\n",
      "<class 'dict'>\n",
      "<class 'set'>\n",
      "<class 'tuple'>\n"
     ]
    }
   ],
   "source": [
    "# Day 1 - 30DaysOfPython Challenge\n",
    "\n",
    "print(2 + 3)             # addition(+)\n",
    "print(3 - 1)             # subtraction(-)\n",
    "print(2 * 3)             # multiplication(*)\n",
    "print(3 / 2)             # division(/)\n",
    "print(3 ** 2)            # exponential(**)\n",
    "print(3 % 2)             # modulus(%)\n",
    "print(3 // 2)            # Floor division operator(//)\n",
    "\n",
    "# Checking data types\n",
    "print(type(10))          # Int\n",
    "print(type(3.14))        # Float\n",
    "print(type(1 + 3j))      # Complex number\n",
    "print(type('Asabeneh'))  # String\n",
    "print(type([1, 2, 3]))   # List\n",
    "print(type({'name':'Asabeneh'})) # Dictionary\n",
    "print(type({9.8, 3.14, 2.7}))    # Set\n",
    "print(type((9.8, 3.14, 2.7)))    # Tuple"
   ]
  },
  {
   "cell_type": "code",
   "execution_count": 38,
   "metadata": {},
   "outputs": [
    {
     "name": "stdout",
     "output_type": "stream",
     "text": [
      "<class 'str'>\n",
      "<class 'tuple'>\n"
     ]
    }
   ],
   "source": [
    "print(type(names[0])) # for individual element\n",
    "print(type(names)) #for whole dictionary"
   ]
  },
  {
   "cell_type": "code",
   "execution_count": 40,
   "metadata": {},
   "outputs": [
    {
     "data": {
      "text/plain": [
       "complex"
      ]
     },
     "execution_count": 40,
     "metadata": {},
     "output_type": "execute_result"
    }
   ],
   "source": [
    "a=4 - 4j\n",
    "type(a)"
   ]
  },
  {
   "attachments": {
    "image.png": {
     "image/png": "[encoded data removed]"
    }
   },
   "cell_type": "markdown",
   "metadata": {},
   "source": [
    "![image.png](attachment:image.png)"
   ]
  },
  {
   "cell_type": "code",
   "execution_count": 46,
   "metadata": {},
   "outputs": [
    {
     "name": "stdout",
     "output_type": "stream",
     "text": [
      "10.5\n",
      "10.5\n",
      "10.0\n"
     ]
    }
   ],
   "source": [
    "print(abs(-(-10.5)))\n",
    "print(abs(-10.5))\n",
    "print(abs(10.0000))"
   ]
  },
  {
   "cell_type": "code",
   "execution_count": 59,
   "metadata": {},
   "outputs": [
    {
     "data": {
      "text/plain": [
       "False"
      ]
     },
     "execution_count": 59,
     "metadata": {},
     "output_type": "execute_result"
    }
   ],
   "source": [
    "all([True,True,False])"
   ]
  },
  {
   "cell_type": "markdown",
   "metadata": {},
   "source": [
    "Certainly! Below are one-line examples of each built-in function listed in the image:\n",
    "\n",
    "### Column 1\n",
    "1. `abs()`: `abs(-5)  # 5`\n",
    "2. `all()`: `all([True, True, False])  # False`\n",
    "3. `any()`: `any([False, False, True])  # True`\n",
    "4. `ascii()`: `ascii('ü')  # '\\\\xfc'`\n",
    "5. `bin()`: `bin(10)  # '0b1010'`\n",
    "6. `bool()`: `bool(1)  # True`\n",
    "7. `breakpoint()`: `breakpoint()  # Enters debugger`\n",
    "8. `bytearray()`: `bytearray([1, 2, 3])  # bytearray(b'\\\\x01\\\\x02\\\\x03')`\n",
    "9. `bytes()`: `bytes([1, 2, 3])  # b'\\\\x01\\\\x02\\\\x03'`\n",
    "10. `callable()`: `callable(len)  # True`\n",
    "11. `chr()`: `chr(97)  # 'a'`\n",
    "12. `classmethod()`: `classmethod(lambda cls: None)  # <classmethod object at 0x...>`\n",
    "13. `compile()`: `compile('print(1)', '', 'exec')  # <code object...>`\n",
    "14. `complex()`: `complex(1, 2)  # (1+2j)`\n",
    "\n",
    "### Column 2\n",
    "15. `delattr()`: `class A: x = 1; delattr(A, 'x')  # Deletes attribute 'x'`\n",
    "16. `dict()`: `dict(a=1, b=2)  # {'a': 1, 'b': 2}`\n",
    "17. `dir()`: `dir([])  # ['__add__', '__class__', ...]`\n",
    "18. `divmod()`: `divmod(10, 3)  # (3, 1)`\n",
    "19. `enumerate()`: `list(enumerate(['a', 'b']))  # [(0, 'a'), (1, 'b')]`\n",
    "20. `eval()`: `eval('1 + 2')  # 3`\n",
    "21. `exec()`: `exec('a = 1')  # Executes code`\n",
    "22. `filter()`: `list(filter(lambda x: x > 0, [-1, 0, 1]))  # [1]`\n",
    "23. `float()`: `float('1.23')  # 1.23`\n",
    "24. `format()`: `format(255, '02x')  # 'ff'`\n",
    "25. `frozenset()`: `frozenset([1, 2, 3])  # frozenset({1, 2, 3})`\n",
    "26. `getattr()`: `getattr(int, 'bit_length')  # <method 'bit_length' of 'int' objects>`\n",
    "27. `globals()`: `globals()  # {'__name__': '__main__', ...}`\n",
    "28. `hasattr()`: `hasattr(str, 'upper')  # True`\n",
    "\n",
    "### Column 3\n",
    "29. `hash()`: `hash('test')  # hash value of 'test'`\n",
    "30. `help()`: `help(len)  # Shows help for 'len'`\n",
    "31. `hex()`: `hex(255)  # '0xff'`\n",
    "32. `id()`: `id(1)  # Memory address of 1`\n",
    "33. `input()`: `input('Enter: ')  # Prompts for user input`\n",
    "34. `int()`: `int('123')  # 123`\n",
    "35. `isinstance()`: `isinstance(1, int)  # True`\n",
    "36. `issubclass()`: `issubclass(bool, int)  # True`\n",
    "37. `iter()`: `iter([1, 2, 3])  # List iterator`\n",
    "38. `len()`: `len('hello')  # 5`\n",
    "39. `list()`: `list((1, 2, 3))  # [1, 2, 3]`\n",
    "40. `locals()`: `locals()  # {'a': 1, 'b': 2, ...}`\n",
    "\n",
    "### Column 4\n",
    "41. `memoryview()`: `memoryview(b'abc')  # <memory at 0x...>`\n",
    "42. `min()`: `min(1, 2, 3)  # 1`\n",
    "43. `next()`: `next(iter([1, 2, 3]))  # 1`\n",
    "44. `object()`: `object()  # <object at 0x...>`\n",
    "45. `oct()`: `oct(8)  # '0o10'`\n",
    "46. `open()`: `open('file.txt')  # File object`\n",
    "47. `ord()`: `ord('a')  # 97`\n",
    "48. `pow()`: `pow(2, 3)  # 8`\n",
    "49. `print()`: `print('hello')  # Prints 'hello'`\n",
    "50. `property()`: `property(lambda self: 'value')  # <property object at 0x...>`\n",
    "51. `range()`: `list(range(3))  # [0, 1, 2]`\n",
    "52. `repr()`: `repr(1)  # '1'`\n",
    "53. `reversed()`: `list(reversed([1, 2, 3]))  # [3, 2, 1]`\n",
    "54. `round()`: `round(3.14159, 2)  # 3.14`\n",
    "\n",
    "### Column 5\n",
    "55. `set()`: `set([1, 2, 2, 3])  # {1, 2, 3}`\n",
    "56. `setattr()`: `class A: pass; a = A(); setattr(a, 'x', 1)  # Sets 'x' to 1`\n",
    "57. `slice()`: `slice(1, 5, 2)  # slice(1, 5, 2)`\n",
    "58. `sorted()`: `sorted([3, 1, 2])  # [1, 2, 3]`\n",
    "59. `staticmethod()`: `staticmethod(lambda: None)  # <staticmethod object at 0x...>`\n",
    "60. `str()`: `str(123)  # '123'`\n",
    "61. `sum()`: `sum([1, 2, 3])  # 6`\n",
    "62. `super()`: `class B(A): def __init__(self): super().__init__()`\n",
    "63. `tuple()`: `tuple([1, 2, 3])  # (1, 2, 3)`\n",
    "64. `type()`: `type(123)  # <class 'int'>`\n",
    "65. `vars()`: `vars()  # {'__name__': '__main__', ...}`\n",
    "66. `zip()`: `list(zip([1, 2], ['a', 'b']))  # [(1, 'a'), (2, 'b')]`\n",
    "67. `__import__()`: `__import__('math')  # <module 'math'>`"
   ]
  },
  {
   "cell_type": "markdown",
   "metadata": {},
   "source": [
    "\n",
    "all([True, True, True])       # True, because all elements are true\n",
    "all([True, False, True])      # False, because not all elements are true\n",
    "all([])                       # True, because the iterable is empty\n"
   ]
  },
  {
   "cell_type": "code",
   "execution_count": 60,
   "metadata": {},
   "outputs": [
    {
     "data": {
      "text/plain": [
       "False"
      ]
     },
     "execution_count": 60,
     "metadata": {},
     "output_type": "execute_result"
    }
   ],
   "source": [
    "any([False, False, True])     # True, because at least one element is true\n",
    "any([False, False, False])    # False, because no elements are true\n",
    "any([])                       # False, because the iterable is empty\n"
   ]
  },
  {
   "cell_type": "code",
   "execution_count": 61,
   "metadata": {},
   "outputs": [
    {
     "data": {
      "text/plain": [
       "True"
      ]
     },
     "execution_count": 61,
     "metadata": {},
     "output_type": "execute_result"
    }
   ],
   "source": [
    "scores = [70, 80, 90, 100]\n",
    "all(score >= 50 for score in scores)  # True, because all scores are >= 50\n"
   ]
  },
  {
   "cell_type": "code",
   "execution_count": 79,
   "metadata": {},
   "outputs": [],
   "source": [
    "shortlisteddropped=['goodskill','avg','no']\n",
    "result =all(criteria=='goodskill' for criteria in shortlisteddropped)\n",
    "def is_valid(result):\n",
    "    if(result==False):\n",
    "          print(\"select only good skill one\")\n",
    "    else:\n",
    "     print(\"good one\")\n",
    "          "
   ]
  },
  {
   "cell_type": "code",
   "execution_count": 92,
   "metadata": {},
   "outputs": [
    {
     "name": "stdout",
     "output_type": "stream",
     "text": [
      "[10, 10, 20]\n"
     ]
    }
   ],
   "source": [
    "num=[10,10,20,5,1,2]\n",
    "def isvalid(num):\n",
    "    return num%10==0\n",
    "val=filter(isvalid,num)\n",
    "print(list(val))\n",
    "\n",
    "\n",
    "\n",
    "    \n"
   ]
  },
  {
   "cell_type": "code",
   "execution_count": 93,
   "metadata": {},
   "outputs": [
    {
     "name": "stdout",
     "output_type": "stream",
     "text": [
      "good one\n"
     ]
    }
   ],
   "source": [
    "shortlisteddropped[1]='goodskill'\n",
    "shortlisteddropped[2]='goodskill'\n",
    "result =all(criteria=='goodskill' for criteria in shortlisteddropped)\n",
    "if(result==False):\n",
    "    print(\"select only good skill one\")\n",
    "else:\n",
    "        print(\"good one\")"
   ]
  },
  {
   "cell_type": "code",
   "execution_count": 1,
   "metadata": {},
   "outputs": [
    {
     "data": {
      "text/plain": [
       "30"
      ]
     },
     "execution_count": 1,
     "metadata": {},
     "output_type": "execute_result"
    }
   ],
   "source": [
    "min(20,30,20,10)\n",
    "max(20,30,20,10)\n"
   ]
  },
  {
   "cell_type": "code",
   "execution_count": 10,
   "metadata": {},
   "outputs": [
    {
     "name": "stdout",
     "output_type": "stream",
     "text": [
      "<class 'str'>\n",
      "<class 'str'>\n"
     ]
    }
   ],
   "source": [
    "first_name='vaishali'\n",
    "last_name=\"gupta\"\n",
    "print(type(first_name))\n",
    "print(type(last_name))"
   ]
  },
  {
   "cell_type": "code",
   "execution_count": 12,
   "metadata": {},
   "outputs": [
    {
     "name": "stdout",
     "output_type": "stream",
     "text": [
      "False\n"
     ]
    }
   ],
   "source": [
    "num1=len(first_name)\n",
    "num2=len(last_name)\n",
    "def is_equal(num1,num2):\n",
    "    return num1==num2\n",
    "print(bool(is_equal(num1,num2)))"
   ]
  },
  {
   "cell_type": "markdown",
   "metadata": {},
   "source": [
    "The radius of a circle is 30 meters.\n",
    "Calculate the area of a circle and assign the value to a variable name of area_of_circle\n",
    "Calculate the circumference of a circle and assign the value to a variable name of circum_of_circle\n",
    "Take radius as user input and calculate the area."
   ]
  },
  {
   "cell_type": "code",
   "execution_count": 19,
   "metadata": {},
   "outputs": [
    {
     "name": "stdout",
     "output_type": "stream",
     "text": [
      "2826.0\n",
      "188.4\n"
     ]
    }
   ],
   "source": [
    "radius=30\n",
    "area_of_circle=3.14*radius*radius\n",
    "circum_of_circle=2*3.14*radius\n",
    "print(area_of_circle)\n",
    "print(circum_of_circle)"
   ]
  },
  {
   "cell_type": "code",
   "execution_count": 22,
   "metadata": {},
   "outputs": [
    {
     "name": "stdout",
     "output_type": "stream",
     "text": [
      "vaishali gupta india 20\n"
     ]
    }
   ],
   "source": [
    "first_name=input(\"Enter your first name\")\n",
    "last_name=input(\"enter your last_name\")\n",
    "country=input(\"enter your country\")\n",
    "age=input(\"enter your age\")\n",
    "print(first_name,last_name,country,age)"
   ]
  },
  {
   "cell_type": "code",
   "execution_count": 23,
   "metadata": {},
   "outputs": [
    {
     "name": "stdout",
     "output_type": "stream",
     "text": [
      "\n",
      "Here is a list of the Python keywords.  Enter any keyword to get more help.\n",
      "\n",
      "False               class               from                or\n",
      "None                continue            global              pass\n",
      "True                def                 if                  raise\n",
      "and                 del                 import              return\n",
      "as                  elif                in                  try\n",
      "assert              else                is                  while\n",
      "async               except              lambda              with\n",
      "await               finally             nonlocal            yield\n",
      "break               for                 not                 \n",
      "\n"
     ]
    }
   ],
   "source": [
    "help('keywords')"
   ]
  },
  {
   "cell_type": "code",
   "execution_count": null,
   "metadata": {},
   "outputs": [],
   "source": []
  }
 ],
 "metadata": {
  "kernelspec": {
   "display_name": "Python 3",
   "language": "python",
   "name": "python3"
  },
  "language_info": {
   "codemirror_mode": {
    "name": "ipython",
    "version": 3
   },
   "file_extension": ".py",
   "mimetype": "text/x-python",
   "name": "python",
   "nbconvert_exporter": "python",
   "pygments_lexer": "ipython3",
   "version": "3.12.3"
  }
 },
 "nbformat": 4,
 "nbformat_minor": 2
}
